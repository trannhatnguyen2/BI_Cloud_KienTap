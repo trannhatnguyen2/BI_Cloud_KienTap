{
 "cells": [
  {
   "cell_type": "code",
   "execution_count": 7,
   "metadata": {},
   "outputs": [],
   "source": [
    "#---------------#\n",
    "import os\n",
    "\n",
    "folder_path = './data/reviews'\n",
    "files = os.listdir(folder_path)"
   ]
  },
  {
   "cell_type": "code",
   "execution_count": 9,
   "metadata": {},
   "outputs": [
    {
     "name": "stdout",
     "output_type": "stream",
     "text": [
      "./data/reviews_json/Reviews_2018_01.json\n",
      "./data/reviews_json/Reviews_2018_02.json\n",
      "./data/reviews_json/Reviews_2018_03.json\n",
      "./data/reviews_json/Reviews_2018_04.json\n",
      "./data/reviews_json/Reviews_2018_05.json\n",
      "./data/reviews_json/Reviews_2018_06.json\n",
      "./data/reviews_json/Reviews_2018_07.json\n",
      "./data/reviews_json/Reviews_2018_08.json\n"
     ]
    }
   ],
   "source": [
    "def csv_to_json(csvFilePath, jsonFilePath):\n",
    "    jsonArray = []\n",
    "      \n",
    "    #read csv file\n",
    "    with open(csvFilePath, encoding='utf-8') as csvf: \n",
    "        #load csv file data using csv library's dictionary reader\n",
    "        csvReader = csv.DictReader(csvf) \n",
    "\n",
    "        #convert each csv row into python dict\n",
    "        for row in csvReader: \n",
    "            #add this python dict to json array\n",
    "            jsonArray.append(row)\n",
    "  \n",
    "    #convert python jsonArray to JSON String and write to file\n",
    "    with open(jsonFilePath, 'w', encoding='utf-8') as jsonf: \n",
    "        jsonString = json.dumps(jsonArray, indent=4)\n",
    "        jsonf.write(jsonString)\n",
    "\n",
    "for file in files:\n",
    "    # path csv\n",
    "    csvFilePath = f'./data/reviews/{file}'\n",
    "    # path json\n",
    "    base_filename, extension = os.path.splitext(file)\n",
    "    new_filename = base_filename + \".json\"\n",
    "    jsonFilePath = f'./data/reviews_json/{new_filename}'\n",
    "\n",
    "    # function convert\n",
    "    csv_to_json(csvFilePath, jsonFilePath)\n",
    "\n",
    "\n",
    "    print(jsonFilePath)"
   ]
  }
 ],
 "metadata": {
  "kernelspec": {
   "display_name": "Python 3",
   "language": "python",
   "name": "python3"
  },
  "language_info": {
   "codemirror_mode": {
    "name": "ipython",
    "version": 3
   },
   "file_extension": ".py",
   "mimetype": "text/x-python",
   "name": "python",
   "nbconvert_exporter": "python",
   "pygments_lexer": "ipython3",
   "version": "3.9.8"
  },
  "orig_nbformat": 4
 },
 "nbformat": 4,
 "nbformat_minor": 2
}
