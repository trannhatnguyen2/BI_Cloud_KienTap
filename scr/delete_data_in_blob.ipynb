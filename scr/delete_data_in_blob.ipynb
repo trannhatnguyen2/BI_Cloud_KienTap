{
 "cells": [
  {
   "attachments": {},
   "cell_type": "markdown",
   "metadata": {},
   "source": [
    "### rawdata"
   ]
  },
  {
   "cell_type": "code",
   "execution_count": 1,
   "metadata": {},
   "outputs": [],
   "source": [
    "from azure.storage.blob import BlobServiceClient\n",
    "\n",
    "# Create a connection to your Azure Blob Storage account\n",
    "connection_string = \"DefaultEndpointsProtocol=https;AccountName=kientap2023;AccountKey=xRsZAg71qCSeHIDjFh/zibPcjyG/gfg9nt+MEV0gfwtArF4LQAikpwx57VNlhbHPcabg8TtVy/ck+AStXwdqjQ==;EndpointSuffix=core.windows.net\"\n",
    "blob_service_client = BlobServiceClient.from_connection_string(connection_string)\n",
    "\n",
    "# Get a reference to the container you want to delete files from\n",
    "container_name = \"rawdata\"\n",
    "container_client = blob_service_client.get_container_client(container_name)\n",
    "\n",
    "# Use the list_blobs method to get a list of all blobs in the container\n",
    "blob_list = container_client.list_blobs()\n",
    "\n",
    "# Iterate over the list of blobs and delete each blob\n",
    "for blob in blob_list:\n",
    "    container_client.delete_blob(blob.name)"
   ]
  },
  {
   "attachments": {},
   "cell_type": "markdown",
   "metadata": {},
   "source": [
    "### curated"
   ]
  },
  {
   "cell_type": "code",
   "execution_count": 9,
   "metadata": {},
   "outputs": [],
   "source": [
    "from azure.storage.blob import BlobServiceClient\n",
    "\n",
    "# Create a connection to your Azure Blob Storage account\n",
    "connection_string = \"DefaultEndpointsProtocol=https;AccountName=kientap2023;AccountKey=xRsZAg71qCSeHIDjFh/zibPcjyG/gfg9nt+MEV0gfwtArF4LQAikpwx57VNlhbHPcabg8TtVy/ck+AStXwdqjQ==;EndpointSuffix=core.windows.net\"\n",
    "blob_service_client = BlobServiceClient.from_connection_string(connection_string)\n",
    "\n",
    "# Get a reference to the container you want to delete files from\n",
    "container_name = \"curated\"\n",
    "container_client = blob_service_client.get_container_client(container_name)\n",
    "\n",
    "# Use the list_blobs method to get a list of all blobs in the container\n",
    "blob_list = container_client.list_blobs()\n",
    "\n",
    "# Iterate over the list of blobs and delete each blob\n",
    "for blob in blob_list:\n",
    "    container_client.delete_blob(blob.name)"
   ]
  },
  {
   "attachments": {},
   "cell_type": "markdown",
   "metadata": {},
   "source": [
    "### TEST"
   ]
  }
 ],
 "metadata": {
  "kernelspec": {
   "display_name": "Python 3",
   "language": "python",
   "name": "python3"
  },
  "language_info": {
   "codemirror_mode": {
    "name": "ipython",
    "version": 3
   },
   "file_extension": ".py",
   "mimetype": "text/x-python",
   "name": "python",
   "nbconvert_exporter": "python",
   "pygments_lexer": "ipython3",
   "version": "3.9.8"
  },
  "orig_nbformat": 4
 },
 "nbformat": 4,
 "nbformat_minor": 2
}
