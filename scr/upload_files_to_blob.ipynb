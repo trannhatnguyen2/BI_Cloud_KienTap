{
 "cells": [
  {
   "attachments": {},
   "cell_type": "markdown",
   "metadata": {},
   "source": [
    "### review"
   ]
  },
  {
   "cell_type": "code",
   "execution_count": 2,
   "metadata": {},
   "outputs": [
    {
     "name": "stdout",
     "output_type": "stream",
     "text": [
      "Uploaded Review_2018_01.json.\n",
      "Uploaded Review_2018_02.json.\n",
      "Uploaded Review_2018_03.json.\n",
      "Uploaded Review_2018_04.json.\n",
      "Uploaded Review_2018_05.json.\n",
      "Uploaded Review_2018_06.json.\n",
      "Uploaded Review_2018_07.json.\n",
      "Uploaded Review_2018_08.json.\n"
     ]
    }
   ],
   "source": [
    "#---------------#\n",
    "import os\n",
    "\n",
    "folder_path = './data/reviews_json'\n",
    "files = os.listdir(folder_path)\n",
    "\n",
    "#---------------#\n",
    "from azure.storage.blob import BlobServiceClient\n",
    "\n",
    "storage_account_key = \"xRsZAg71qCSeHIDjFh/zibPcjyG/gfg9nt+MEV0gfwtArF4LQAikpwx57VNlhbHPcabg8TtVy/ck+AStXwdqjQ==\"\n",
    "storage_account_name = \"kientap2023\"\n",
    "connection_string = \"DefaultEndpointsProtocol=https;AccountName=kientap2023;AccountKey=xRsZAg71qCSeHIDjFh/zibPcjyG/gfg9nt+MEV0gfwtArF4LQAikpwx57VNlhbHPcabg8TtVy/ck+AStXwdqjQ==;EndpointSuffix=core.windows.net\"\n",
    "container_name = \"rawdata\"\n",
    "\n",
    "def uploadFileToBlobStorage(file_path, file_name):\n",
    "    path = f\"web_services/{file_name}\"\n",
    "    blob_service_client = BlobServiceClient.from_connection_string(connection_string)\n",
    "    blob_client = blob_service_client.get_blob_client(container=container_name, blob=path)\n",
    "\n",
    "    with open(file_path, \"rb\") as data:\n",
    "        blob_client.upload_blob(data)\n",
    "    \n",
    "    print(f\"Uploaded {file_name}.\")\n",
    "\n",
    "#--------------#\n",
    "for file in files:\n",
    "    file_path = f\"./data/reviews_json/{file}\"\n",
    "    file_name = file\n",
    "    uploadFileToBlobStorage(file_path,file_name)"
   ]
  },
  {
   "attachments": {},
   "cell_type": "markdown",
   "metadata": {},
   "source": [
    "---------------"
   ]
  },
  {
   "attachments": {},
   "cell_type": "markdown",
   "metadata": {},
   "source": [
    "### order"
   ]
  },
  {
   "cell_type": "code",
   "execution_count": 3,
   "metadata": {},
   "outputs": [
    {
     "name": "stdout",
     "output_type": "stream",
     "text": [
      "Uploaded Order_2018_01.csv.\n",
      "Uploaded Order_2018_02.csv.\n",
      "Uploaded Order_2018_03.csv.\n",
      "Uploaded Order_2018_04.csv.\n",
      "Uploaded Order_2018_05.csv.\n",
      "Uploaded Order_2018_06.csv.\n",
      "Uploaded Order_2018_07.csv.\n",
      "Uploaded Order_2018_08.csv.\n",
      "Uploaded Order_2018_09.csv.\n",
      "Uploaded Order_2018_10.csv.\n"
     ]
    }
   ],
   "source": [
    "#---------------#\n",
    "import os\n",
    "\n",
    "folder_path = './data/sales/order'\n",
    "files = os.listdir(folder_path)\n",
    "\n",
    "#---------------#\n",
    "from azure.storage.blob import BlobServiceClient\n",
    "\n",
    "storage_account_key = \"xRsZAg71qCSeHIDjFh/zibPcjyG/gfg9nt+MEV0gfwtArF4LQAikpwx57VNlhbHPcabg8TtVy/ck+AStXwdqjQ==\"\n",
    "storage_account_name = \"kientap2023\"\n",
    "connection_string = \"DefaultEndpointsProtocol=https;AccountName=kientap2023;AccountKey=xRsZAg71qCSeHIDjFh/zibPcjyG/gfg9nt+MEV0gfwtArF4LQAikpwx57VNlhbHPcabg8TtVy/ck+AStXwdqjQ==;EndpointSuffix=core.windows.net\"\n",
    "container_name = \"rawdata\"\n",
    "\n",
    "def uploadFileToBlobStorage(file_path, file_name):\n",
    "    path = f\"databases/{file_name}\"\n",
    "    blob_service_client = BlobServiceClient.from_connection_string(connection_string)\n",
    "    blob_client = blob_service_client.get_blob_client(container=container_name, blob=path)\n",
    "\n",
    "    with open(file_path, \"rb\") as data:\n",
    "        blob_client.upload_blob(data)\n",
    "    \n",
    "    print(f\"Uploaded {file_name}.\")\n",
    "\n",
    "#--------------#\n",
    "for file in files:\n",
    "    file_path = f\"./data/sales/order/{file}\"\n",
    "    file_name = file\n",
    "    uploadFileToBlobStorage(file_path,file_name)"
   ]
  },
  {
   "attachments": {},
   "cell_type": "markdown",
   "metadata": {},
   "source": [
    "### orderItem"
   ]
  },
  {
   "cell_type": "code",
   "execution_count": 5,
   "metadata": {},
   "outputs": [
    {
     "name": "stdout",
     "output_type": "stream",
     "text": [
      "Uploaded OrderItem_2018_01.csv.\n",
      "Uploaded OrderItem_2018_02.csv.\n",
      "Uploaded OrderItem_2018_03.csv.\n",
      "Uploaded OrderItem_2018_04.csv.\n",
      "Uploaded OrderItem_2018_05.csv.\n",
      "Uploaded OrderItem_2018_06.csv.\n",
      "Uploaded OrderItem_2018_07.csv.\n",
      "Uploaded OrderItem_2018_08.csv.\n"
     ]
    }
   ],
   "source": [
    "#---------------#\n",
    "import os\n",
    "\n",
    "folder_path = './data/sales/orderItem/'\n",
    "files = os.listdir(folder_path)\n",
    "\n",
    "#---------------#\n",
    "from azure.storage.blob import BlobServiceClient\n",
    "\n",
    "storage_account_key = \"xRsZAg71qCSeHIDjFh/zibPcjyG/gfg9nt+MEV0gfwtArF4LQAikpwx57VNlhbHPcabg8TtVy/ck+AStXwdqjQ==\"\n",
    "storage_account_name = \"kientap2023\"\n",
    "connection_string = \"DefaultEndpointsProtocol=https;AccountName=kientap2023;AccountKey=xRsZAg71qCSeHIDjFh/zibPcjyG/gfg9nt+MEV0gfwtArF4LQAikpwx57VNlhbHPcabg8TtVy/ck+AStXwdqjQ==;EndpointSuffix=core.windows.net\"\n",
    "container_name = \"rawdata\"\n",
    "\n",
    "def uploadFileToBlobStorage(file_path, file_name):\n",
    "    path = f\"databases/{file_name}\"\n",
    "    blob_service_client = BlobServiceClient.from_connection_string(connection_string)\n",
    "    blob_client = blob_service_client.get_blob_client(container=container_name, blob=path)\n",
    "\n",
    "    with open(file_path, \"rb\") as data:\n",
    "        blob_client.upload_blob(data)\n",
    "    \n",
    "    print(f\"Uploaded {file_name}.\")\n",
    "\n",
    "#--------------#\n",
    "for file in files:\n",
    "    file_path = f\"./data/sales/orderItem/{file}\"\n",
    "    file_name = file\n",
    "    uploadFileToBlobStorage(file_path,file_name)"
   ]
  },
  {
   "attachments": {},
   "cell_type": "markdown",
   "metadata": {},
   "source": [
    "### customer"
   ]
  },
  {
   "cell_type": "code",
   "execution_count": 6,
   "metadata": {},
   "outputs": [
    {
     "name": "stdout",
     "output_type": "stream",
     "text": [
      "Uploaded Customer_2018_01.csv.\n",
      "Uploaded Customer_2018_02.csv.\n",
      "Uploaded Customer_2018_03.csv.\n",
      "Uploaded Customer_2018_04.csv.\n",
      "Uploaded Customer_2018_05.csv.\n",
      "Uploaded Customer_2018_06.csv.\n",
      "Uploaded Customer_2018_07.csv.\n",
      "Uploaded Customer_2018_08.csv.\n"
     ]
    }
   ],
   "source": [
    "#---------------#\n",
    "import os\n",
    "\n",
    "folder_path = './data/sales/customer/'\n",
    "files = os.listdir(folder_path)\n",
    "\n",
    "#---------------#\n",
    "from azure.storage.blob import BlobServiceClient\n",
    "\n",
    "storage_account_key = \"xRsZAg71qCSeHIDjFh/zibPcjyG/gfg9nt+MEV0gfwtArF4LQAikpwx57VNlhbHPcabg8TtVy/ck+AStXwdqjQ==\"\n",
    "storage_account_name = \"kientap2023\"\n",
    "connection_string = \"DefaultEndpointsProtocol=https;AccountName=kientap2023;AccountKey=xRsZAg71qCSeHIDjFh/zibPcjyG/gfg9nt+MEV0gfwtArF4LQAikpwx57VNlhbHPcabg8TtVy/ck+AStXwdqjQ==;EndpointSuffix=core.windows.net\"\n",
    "container_name = \"rawdata\"\n",
    "\n",
    "def uploadFileToBlobStorage(file_path, file_name):\n",
    "    path = f\"databases/{file_name}\"\n",
    "    blob_service_client = BlobServiceClient.from_connection_string(connection_string)\n",
    "    blob_client = blob_service_client.get_blob_client(container=container_name, blob=path)\n",
    "\n",
    "    with open(file_path, \"rb\") as data:\n",
    "        blob_client.upload_blob(data)\n",
    "    \n",
    "    print(f\"Uploaded {file_name}.\")\n",
    "\n",
    "#--------------#\n",
    "for file in files:\n",
    "    file_path = f\"./data/sales/customer/{file}\"\n",
    "    file_name = file\n",
    "    uploadFileToBlobStorage(file_path,file_name)"
   ]
  },
  {
   "attachments": {},
   "cell_type": "markdown",
   "metadata": {},
   "source": [
    "### geolocation"
   ]
  },
  {
   "cell_type": "code",
   "execution_count": 5,
   "metadata": {},
   "outputs": [
    {
     "name": "stdout",
     "output_type": "stream",
     "text": [
      "Uploaded Geolocation_2018_01.csv.\n",
      "Uploaded Geolocation_2018_02.csv.\n"
     ]
    }
   ],
   "source": [
    "#---------------#\n",
    "import os\n",
    "\n",
    "folder_path = './data/sales/geolocation/'\n",
    "files = os.listdir(folder_path)\n",
    "\n",
    "#---------------#\n",
    "from azure.storage.blob import BlobServiceClient\n",
    "\n",
    "storage_account_key = \"xRsZAg71qCSeHIDjFh/zibPcjyG/gfg9nt+MEV0gfwtArF4LQAikpwx57VNlhbHPcabg8TtVy/ck+AStXwdqjQ==\"\n",
    "storage_account_name = \"kientap2023\"\n",
    "connection_string = \"DefaultEndpointsProtocol=https;AccountName=kientap2023;AccountKey=xRsZAg71qCSeHIDjFh/zibPcjyG/gfg9nt+MEV0gfwtArF4LQAikpwx57VNlhbHPcabg8TtVy/ck+AStXwdqjQ==;EndpointSuffix=core.windows.net\"\n",
    "container_name = \"rawdata\"\n",
    "\n",
    "def uploadFileToBlobStorage(file_path, file_name):\n",
    "    path = f\"databases/{file_name}\"\n",
    "    blob_service_client = BlobServiceClient.from_connection_string(connection_string)\n",
    "    blob_client = blob_service_client.get_blob_client(container=container_name, blob=path)\n",
    "\n",
    "    with open(file_path, \"rb\") as data:\n",
    "        blob_client.upload_blob(data)\n",
    "    \n",
    "    print(f\"Uploaded {file_name}.\")\n",
    "\n",
    "#--------------#\n",
    "for file in files:\n",
    "    file_path = f\"./data/sales/geolocation/{file}\"\n",
    "    file_name = file\n",
    "    uploadFileToBlobStorage(file_path,file_name)"
   ]
  },
  {
   "attachments": {},
   "cell_type": "markdown",
   "metadata": {},
   "source": [
    "### seller"
   ]
  },
  {
   "cell_type": "code",
   "execution_count": 3,
   "metadata": {},
   "outputs": [
    {
     "name": "stdout",
     "output_type": "stream",
     "text": [
      "Uploaded Seller_2018_01.csv.\n"
     ]
    }
   ],
   "source": [
    "#---------------#\n",
    "import os\n",
    "\n",
    "folder_path = './data/sales/seller/'\n",
    "files = os.listdir(folder_path)\n",
    "\n",
    "#---------------#\n",
    "from azure.storage.blob import BlobServiceClient\n",
    "\n",
    "storage_account_key = \"xRsZAg71qCSeHIDjFh/zibPcjyG/gfg9nt+MEV0gfwtArF4LQAikpwx57VNlhbHPcabg8TtVy/ck+AStXwdqjQ==\"\n",
    "storage_account_name = \"kientap2023\"\n",
    "connection_string = \"DefaultEndpointsProtocol=https;AccountName=kientap2023;AccountKey=xRsZAg71qCSeHIDjFh/zibPcjyG/gfg9nt+MEV0gfwtArF4LQAikpwx57VNlhbHPcabg8TtVy/ck+AStXwdqjQ==;EndpointSuffix=core.windows.net\"\n",
    "container_name = \"rawdata\"\n",
    "\n",
    "def uploadFileToBlobStorage(file_path, file_name):\n",
    "    path = f\"databases/{file_name}\"\n",
    "    blob_service_client = BlobServiceClient.from_connection_string(connection_string)\n",
    "    blob_client = blob_service_client.get_blob_client(container=container_name, blob=path)\n",
    "\n",
    "    with open(file_path, \"rb\") as data:\n",
    "        blob_client.upload_blob(data)\n",
    "    \n",
    "    print(f\"Uploaded {file_name}.\")\n",
    "\n",
    "#--------------#\n",
    "for file in files:\n",
    "    file_path = f\"./data/sales/seller/{file}\"\n",
    "    file_name = file\n",
    "    uploadFileToBlobStorage(file_path,file_name)"
   ]
  },
  {
   "attachments": {},
   "cell_type": "markdown",
   "metadata": {},
   "source": [
    "### product"
   ]
  },
  {
   "cell_type": "code",
   "execution_count": null,
   "metadata": {},
   "outputs": [
    {
     "name": "stdout",
     "output_type": "stream",
     "text": [
      "Uploaded Product_2018_01.csv.\n"
     ]
    }
   ],
   "source": [
    "#---------------#\n",
    "import os\n",
    "\n",
    "folder_path = './data/sales/product/'\n",
    "files = os.listdir(folder_path)\n",
    "\n",
    "#---------------#\n",
    "from azure.storage.blob import BlobServiceClient\n",
    "\n",
    "storage_account_key = \"xRsZAg71qCSeHIDjFh/zibPcjyG/gfg9nt+MEV0gfwtArF4LQAikpwx57VNlhbHPcabg8TtVy/ck+AStXwdqjQ==\"\n",
    "storage_account_name = \"kientap2023\"\n",
    "connection_string = \"DefaultEndpointsProtocol=https;AccountName=kientap2023;AccountKey=xRsZAg71qCSeHIDjFh/zibPcjyG/gfg9nt+MEV0gfwtArF4LQAikpwx57VNlhbHPcabg8TtVy/ck+AStXwdqjQ==;EndpointSuffix=core.windows.net\"\n",
    "container_name = \"rawdata\"\n",
    "\n",
    "def uploadFileToBlobStorage(file_path, file_name):\n",
    "    path = f\"databases/{file_name}\"\n",
    "    blob_service_client = BlobServiceClient.from_connection_string(connection_string)\n",
    "    blob_client = blob_service_client.get_blob_client(container=container_name, blob=path)\n",
    "\n",
    "    with open(file_path, \"rb\") as data:\n",
    "        blob_client.upload_blob(data)\n",
    "    \n",
    "    print(f\"Uploaded {file_name}.\")\n",
    "\n",
    "#--------------#\n",
    "for file in files:\n",
    "    file_path = f\"./data/sales/product/{file}\"\n",
    "    file_name = file\n",
    "    uploadFileToBlobStorage(file_path,file_name)"
   ]
  },
  {
   "attachments": {},
   "cell_type": "markdown",
   "metadata": {},
   "source": [
    "### payment"
   ]
  },
  {
   "cell_type": "code",
   "execution_count": 4,
   "metadata": {},
   "outputs": [
    {
     "name": "stdout",
     "output_type": "stream",
     "text": [
      "Uploaded Payment_2018_01.csv.\n",
      "Uploaded Payment_2018_02.csv.\n",
      "Uploaded Payment_2018_03.csv.\n",
      "Uploaded Payment_2018_04.csv.\n",
      "Uploaded Payment_2018_05.csv.\n",
      "Uploaded Payment_2018_06.csv.\n",
      "Uploaded Payment_2018_07.csv.\n",
      "Uploaded Payment_2018_08.csv.\n"
     ]
    }
   ],
   "source": [
    "#---------------#\n",
    "import os\n",
    "\n",
    "folder_path = './data/sales/payment/'\n",
    "files = os.listdir(folder_path)\n",
    "\n",
    "#---------------#\n",
    "from azure.storage.blob import BlobServiceClient\n",
    "\n",
    "storage_account_key = \"xRsZAg71qCSeHIDjFh/zibPcjyG/gfg9nt+MEV0gfwtArF4LQAikpwx57VNlhbHPcabg8TtVy/ck+AStXwdqjQ==\"\n",
    "storage_account_name = \"kientap2023\"\n",
    "connection_string = \"DefaultEndpointsProtocol=https;AccountName=kientap2023;AccountKey=xRsZAg71qCSeHIDjFh/zibPcjyG/gfg9nt+MEV0gfwtArF4LQAikpwx57VNlhbHPcabg8TtVy/ck+AStXwdqjQ==;EndpointSuffix=core.windows.net\"\n",
    "container_name = \"rawdata\"\n",
    "\n",
    "def uploadFileToBlobStorage(file_path, file_name):\n",
    "    path = f\"accounting_system/{file_name}\"\n",
    "    blob_service_client = BlobServiceClient.from_connection_string(connection_string)\n",
    "    blob_client = blob_service_client.get_blob_client(container=container_name, blob=path)\n",
    "\n",
    "    with open(file_path, \"rb\") as data:\n",
    "        blob_client.upload_blob(data)\n",
    "    \n",
    "    print(f\"Uploaded {file_name}.\")\n",
    "\n",
    "#--------------#\n",
    "for file in files:\n",
    "    file_path = f\"./data/sales/payment/{file}\"\n",
    "    file_name = file\n",
    "    uploadFileToBlobStorage(file_path,file_name)"
   ]
  }
 ],
 "metadata": {
  "kernelspec": {
   "display_name": "Python 3",
   "language": "python",
   "name": "python3"
  },
  "language_info": {
   "codemirror_mode": {
    "name": "ipython",
    "version": 3
   },
   "file_extension": ".py",
   "mimetype": "text/x-python",
   "name": "python",
   "nbconvert_exporter": "python",
   "pygments_lexer": "ipython3",
   "version": "3.9.8"
  },
  "orig_nbformat": 4
 },
 "nbformat": 4,
 "nbformat_minor": 2
}
